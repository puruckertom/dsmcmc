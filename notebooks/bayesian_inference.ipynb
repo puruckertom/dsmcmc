{
 "cells": [
  {
   "cell_type": "markdown",
   "metadata": {},
   "source": [
    "# Bayesian inference using MCMC\n",
    "***"
   ]
  },
  {
   "cell_type": "markdown",
   "metadata": {},
   "source": [
    "## Markov Chain Monte Carlo with Metropolis-Hastings Sampler\n",
    "\n",
    "This is a simple tutorial to illustrate how to use simulation in R to combine a dataset of interest with a model and generate posterior distributions of parameters of interest. Metropolis-Hastings is a very general Markov chain sampler and perhaps the easiest to understand and explain.\n",
    "\n",
    "We need a dataset and a model to get started. The dataset will have (lab or field) observations of the phenomena of interest; the model will make in silico predictions of the same phenomena of interest. We will use a simple exposure model, but the model itself can be anything functional form (simple algebra, a regression, complex fate and transport process model, etc.)\n",
    "\n",
    "## The data set\n",
    "\n",
    "We will first import a dataset that has semi-field experimental observations of pesticide body burdens in terrestrial amphibians with covariates. In this case, we will use pesticide body burdens in amphibians. We will combine this with a model that also uses some of these covariates and makes predictions of amphibian pesticide body burdens.\n",
    "\n",
    "\n"
   ]
  },
  {
   "cell_type": "code",
   "execution_count": 32,
   "metadata": {
    "scrolled": false
   },
   "outputs": [
    {
     "data": {
      "text/html": [
       "797"
      ],
      "text/latex": [
       "797"
      ],
      "text/markdown": [
       "797"
      ],
      "text/plain": [
       "[1] 797"
      ]
     },
     "metadata": {},
     "output_type": "display_data"
    },
    {
     "data": {
      "text/html": [
       "<table>\n",
       "<thead><tr><th scope=col>X</th><th scope=col>app_rate_g_cm2</th><th scope=col>application</th><th scope=col>body_weight_g</th><th scope=col>chemical</th><th scope=col>exp_duration</th><th scope=col>formulation</th><th scope=col>sample_id</th><th scope=col>soil_conc_ugg</th><th scope=col>soil_type</th><th scope=col>source</th><th scope=col>species</th><th scope=col>tissue_conc_ugg</th></tr></thead>\n",
       "<tbody>\n",
       "\t<tr><td>1               </td><td>5.58e-06        </td><td>Overspray       </td><td>1.73625         </td><td>Imidacloprid    </td><td>8               </td><td>0               </td><td>HGOI1           </td><td> 0.4798464      </td><td>PLE             </td><td>rvm2015         </td><td>Barking treefrog</td><td>1.0152872       </td></tr>\n",
       "\t<tr><td>2               </td><td>5.58e-06        </td><td>Overspray       </td><td>2.61111         </td><td>Imidacloprid    </td><td>8               </td><td>0               </td><td>HGOI2           </td><td> 0.4798464      </td><td>PLE             </td><td>rvm2015         </td><td>Barking treefrog</td><td>1.6360832       </td></tr>\n",
       "\t<tr><td>3               </td><td>5.58e-06        </td><td>Overspray       </td><td>1.82332         </td><td>Imidacloprid    </td><td>8               </td><td>0               </td><td>HGOI3           </td><td> 0.4798464      </td><td>PLE             </td><td>rvm2015         </td><td>Barking treefrog</td><td>0.9261004       </td></tr>\n",
       "\t<tr><td>4               </td><td>5.58e-06        </td><td>Overspray       </td><td>2.91551         </td><td>Imidacloprid    </td><td>8               </td><td>0               </td><td>HGOI4           </td><td> 0.4798464      </td><td>PLE             </td><td>rvm2015         </td><td>Barking treefrog</td><td>0.7182776       </td></tr>\n",
       "\t<tr><td>5               </td><td>5.58e-06        </td><td>Overspray       </td><td>2.49115         </td><td>Imidacloprid    </td><td>8               </td><td>0               </td><td>HGOI5           </td><td> 0.4798464      </td><td>PLE             </td><td>rvm2015         </td><td>Barking treefrog</td><td>1.0890361       </td></tr>\n",
       "\t<tr><td>6               </td><td>2.00e-05        </td><td>Overspray       </td><td>2.09766         </td><td>Pendimethalin   </td><td>8               </td><td>0               </td><td>HGOP1           </td><td>12.1193484      </td><td>PLE             </td><td>rvm2015         </td><td>Barking treefrog</td><td>2.1387952       </td></tr>\n",
       "</tbody>\n",
       "</table>\n"
      ],
      "text/latex": [
       "\\begin{tabular}{r|lllllllllllll}\n",
       " X & app\\_rate\\_g\\_cm2 & application & body\\_weight\\_g & chemical & exp\\_duration & formulation & sample\\_id & soil\\_conc\\_ugg & soil\\_type & source & species & tissue\\_conc\\_ugg\\\\\n",
       "\\hline\n",
       "\t 1                & 5.58e-06         & Overspray        & 1.73625          & Imidacloprid     & 8                & 0                & HGOI1            &  0.4798464       & PLE              & rvm2015          & Barking treefrog & 1.0152872       \\\\\n",
       "\t 2                & 5.58e-06         & Overspray        & 2.61111          & Imidacloprid     & 8                & 0                & HGOI2            &  0.4798464       & PLE              & rvm2015          & Barking treefrog & 1.6360832       \\\\\n",
       "\t 3                & 5.58e-06         & Overspray        & 1.82332          & Imidacloprid     & 8                & 0                & HGOI3            &  0.4798464       & PLE              & rvm2015          & Barking treefrog & 0.9261004       \\\\\n",
       "\t 4                & 5.58e-06         & Overspray        & 2.91551          & Imidacloprid     & 8                & 0                & HGOI4            &  0.4798464       & PLE              & rvm2015          & Barking treefrog & 0.7182776       \\\\\n",
       "\t 5                & 5.58e-06         & Overspray        & 2.49115          & Imidacloprid     & 8                & 0                & HGOI5            &  0.4798464       & PLE              & rvm2015          & Barking treefrog & 1.0890361       \\\\\n",
       "\t 6                & 2.00e-05         & Overspray        & 2.09766          & Pendimethalin    & 8                & 0                & HGOP1            & 12.1193484       & PLE              & rvm2015          & Barking treefrog & 2.1387952       \\\\\n",
       "\\end{tabular}\n"
      ],
      "text/markdown": [
       "\n",
       "X | app_rate_g_cm2 | application | body_weight_g | chemical | exp_duration | formulation | sample_id | soil_conc_ugg | soil_type | source | species | tissue_conc_ugg | \n",
       "|---|---|---|---|---|---|\n",
       "| 1                | 5.58e-06         | Overspray        | 1.73625          | Imidacloprid     | 8                | 0                | HGOI1            |  0.4798464       | PLE              | rvm2015          | Barking treefrog | 1.0152872        | \n",
       "| 2                | 5.58e-06         | Overspray        | 2.61111          | Imidacloprid     | 8                | 0                | HGOI2            |  0.4798464       | PLE              | rvm2015          | Barking treefrog | 1.6360832        | \n",
       "| 3                | 5.58e-06         | Overspray        | 1.82332          | Imidacloprid     | 8                | 0                | HGOI3            |  0.4798464       | PLE              | rvm2015          | Barking treefrog | 0.9261004        | \n",
       "| 4                | 5.58e-06         | Overspray        | 2.91551          | Imidacloprid     | 8                | 0                | HGOI4            |  0.4798464       | PLE              | rvm2015          | Barking treefrog | 0.7182776        | \n",
       "| 5                | 5.58e-06         | Overspray        | 2.49115          | Imidacloprid     | 8                | 0                | HGOI5            |  0.4798464       | PLE              | rvm2015          | Barking treefrog | 1.0890361        | \n",
       "| 6                | 2.00e-05         | Overspray        | 2.09766          | Pendimethalin    | 8                | 0                | HGOP1            | 12.1193484       | PLE              | rvm2015          | Barking treefrog | 2.1387952        | \n",
       "\n",
       "\n"
      ],
      "text/plain": [
       "  X app_rate_g_cm2 application body_weight_g chemical      exp_duration\n",
       "1 1 5.58e-06       Overspray   1.73625       Imidacloprid  8           \n",
       "2 2 5.58e-06       Overspray   2.61111       Imidacloprid  8           \n",
       "3 3 5.58e-06       Overspray   1.82332       Imidacloprid  8           \n",
       "4 4 5.58e-06       Overspray   2.91551       Imidacloprid  8           \n",
       "5 5 5.58e-06       Overspray   2.49115       Imidacloprid  8           \n",
       "6 6 2.00e-05       Overspray   2.09766       Pendimethalin 8           \n",
       "  formulation sample_id soil_conc_ugg soil_type source  species         \n",
       "1 0           HGOI1      0.4798464    PLE       rvm2015 Barking treefrog\n",
       "2 0           HGOI2      0.4798464    PLE       rvm2015 Barking treefrog\n",
       "3 0           HGOI3      0.4798464    PLE       rvm2015 Barking treefrog\n",
       "4 0           HGOI4      0.4798464    PLE       rvm2015 Barking treefrog\n",
       "5 0           HGOI5      0.4798464    PLE       rvm2015 Barking treefrog\n",
       "6 0           HGOP1     12.1193484    PLE       rvm2015 Barking treefrog\n",
       "  tissue_conc_ugg\n",
       "1 1.0152872      \n",
       "2 1.6360832      \n",
       "3 0.9261004      \n",
       "4 0.7182776      \n",
       "5 1.0890361      \n",
       "6 2.1387952      "
      ]
     },
     "metadata": {},
     "output_type": "display_data"
    }
   ],
   "source": [
    "# import data \n",
    "combined_data <- read.csv('../data_in/amphib_dermal_collated.csv')\n",
    "which(combined_data$tissue_conc_ugg==min(combined_data$tissue_conc_ugg))\n",
    "# delete 593:601 -- application units are off, for #797 measurements units are off\n",
    "combined_data_drops <- combined_data[-c(593:601,797),]\n",
    "head(combined_data_drops)\n"
   ]
  },
  {
   "cell_type": "markdown",
   "metadata": {},
   "source": [
    "The data set has pesticide body burdens for 788 amphibians. Also, we will use a couple of independent variables controlled in the experiment as predictors, pesticide application rate and the body weight of each of the amphibians. \n",
    "    "
   ]
  },
  {
   "cell_type": "code",
   "execution_count": 33,
   "metadata": {},
   "outputs": [
    {
     "data": {
      "text/html": [
       "<ol class=list-inline>\n",
       "\t<li>788</li>\n",
       "\t<li>13</li>\n",
       "</ol>\n"
      ],
      "text/latex": [
       "\\begin{enumerate*}\n",
       "\\item 788\n",
       "\\item 13\n",
       "\\end{enumerate*}\n"
      ],
      "text/markdown": [
       "1. 788\n",
       "2. 13\n",
       "\n",
       "\n"
      ],
      "text/plain": [
       "[1] 788  13"
      ]
     },
     "metadata": {},
     "output_type": "display_data"
    },
    {
     "data": {
      "text/html": [
       "<ol class=list-inline>\n",
       "\t<li>'X'</li>\n",
       "\t<li>'app_rate_g_cm2'</li>\n",
       "\t<li>'application'</li>\n",
       "\t<li>'body_weight_g'</li>\n",
       "\t<li>'chemical'</li>\n",
       "\t<li>'exp_duration'</li>\n",
       "\t<li>'formulation'</li>\n",
       "\t<li>'sample_id'</li>\n",
       "\t<li>'soil_conc_ugg'</li>\n",
       "\t<li>'soil_type'</li>\n",
       "\t<li>'source'</li>\n",
       "\t<li>'species'</li>\n",
       "\t<li>'tissue_conc_ugg'</li>\n",
       "</ol>\n"
      ],
      "text/latex": [
       "\\begin{enumerate*}\n",
       "\\item 'X'\n",
       "\\item 'app\\_rate\\_g\\_cm2'\n",
       "\\item 'application'\n",
       "\\item 'body\\_weight\\_g'\n",
       "\\item 'chemical'\n",
       "\\item 'exp\\_duration'\n",
       "\\item 'formulation'\n",
       "\\item 'sample\\_id'\n",
       "\\item 'soil\\_conc\\_ugg'\n",
       "\\item 'soil\\_type'\n",
       "\\item 'source'\n",
       "\\item 'species'\n",
       "\\item 'tissue\\_conc\\_ugg'\n",
       "\\end{enumerate*}\n"
      ],
      "text/markdown": [
       "1. 'X'\n",
       "2. 'app_rate_g_cm2'\n",
       "3. 'application'\n",
       "4. 'body_weight_g'\n",
       "5. 'chemical'\n",
       "6. 'exp_duration'\n",
       "7. 'formulation'\n",
       "8. 'sample_id'\n",
       "9. 'soil_conc_ugg'\n",
       "10. 'soil_type'\n",
       "11. 'source'\n",
       "12. 'species'\n",
       "13. 'tissue_conc_ugg'\n",
       "\n",
       "\n"
      ],
      "text/plain": [
       " [1] \"X\"               \"app_rate_g_cm2\"  \"application\"     \"body_weight_g\"  \n",
       " [5] \"chemical\"        \"exp_duration\"    \"formulation\"     \"sample_id\"      \n",
       " [9] \"soil_conc_ugg\"   \"soil_type\"       \"source\"          \"species\"        \n",
       "[13] \"tissue_conc_ugg\""
      ]
     },
     "metadata": {},
     "output_type": "display_data"
    }
   ],
   "source": [
    "dim(combined_data_drops)\n",
    "colnames(combined_data_drops)\n",
    "#observed tissue concs\n",
    "n <- length(combined_data_drops$tissue_conc_ugg)\n",
    "measured_tissue_concs <- combined_data_drops$tissue_conc_ugg"
   ]
  },
  {
   "cell_type": "markdown",
   "metadata": {},
   "source": [
    "## The model\n",
    "\n",
    "We will also look at a simple exposure model that predicts body burdens in amphibians. One of the exposure parameters (dermal_af) has no information to support it, the EPA and EU have been guessing at protective but reasonable values to parameterize it. One value used has been a dermal_af of 0.5."
   ]
  },
  {
   "cell_type": "markdown",
   "metadata": {},
   "source": [
    "\\begin{equation*}\n",
    "Predicted\\_tissue\\_conc = \\frac{(app\\_rate * surface\\_area * conv\\_rate * \\mathbf{dermal\\_af)}}{body\\_weight}\n",
    "\\end{equation*}\n"
   ]
  },
  {
   "cell_type": "code",
   "execution_count": 34,
   "metadata": {},
   "outputs": [],
   "source": [
    "# Initializing some constants, making predictions with dermal_af = 0.5\n",
    "app_rate <- combined_data_drops$app_rate_g_cm2\n",
    "conv_rate <- 1000000.0\n",
    "body_weight <- combined_data_drops$body_weight_g\n",
    "sa_amphib_hutchinson <- 1.131 * (body_weight ^ 0.579)\n",
    "# we are interested in this parameter dermal_af\n",
    "dermal_af = 0.5\n",
    "predicted_tissue_concs = (app_rate * sa_amphib_hutchinson * conv_rate * dermal_af)/body_weight"
   ]
  },
  {
   "cell_type": "markdown",
   "metadata": {},
   "source": [
    "## Comparing measured and predicted tissue concentrations\n",
    "\n",
    "Now we have measurements and predictions from a model of amphibian tissue concentrations. We can compare them in different ways (table, plot or statistically) to see how the model is doing.\n"
   ]
  },
  {
   "cell_type": "code",
   "execution_count": 35,
   "metadata": {},
   "outputs": [
    {
     "data": {
      "image/png": "[encoded data removed]",
      "text/plain": [
       "plot without title"
      ]
     },
     "metadata": {},
     "output_type": "display_data"
    }
   ],
   "source": [
    "plot(log(measured_tissue_concs), log(predicted_tissue_concs))\n"
   ]
  },
  {
   "cell_type": "markdown",
   "metadata": {},
   "source": [
    "\n",
    "Statistically, we can think about the likelihood of these 788 predicted model results for this single model run given the measured values we have for each amphibian if we make some distributional assumptions. The likelihood is the probability (density) with which we would expect the observed data to occur conditional on the parameters of the model that we look at. A common approach in modeling when comparing model predictions to measurement is to tweak the inputs in order to maximize this likelihood calculation. "
   ]
  },
  {
   "cell_type": "code",
   "execution_count": 36,
   "metadata": {},
   "outputs": [
    {
     "data": {
      "text/html": [
       "-10687.227628914"
      ],
      "text/latex": [
       "-10687.227628914"
      ],
      "text/markdown": [
       "-10687.227628914"
      ],
      "text/plain": [
       "[1] -10687.23"
      ]
     },
     "metadata": {},
     "output_type": "display_data"
    }
   ],
   "source": [
    "sd = 2 #making something up, this is a second parameter that we are uninformed about\n",
    "singlelikelihoods = dnorm(measured_tissue_concs, mean = predicted_tissue_concs, sd = sd, log = T)\n",
    "sumll = sum(singlelikelihoods)\n",
    "sumll"
   ]
  },
  {
   "cell_type": "markdown",
   "metadata": {},
   "source": [
    "## Creating a likelihood function for our model\n",
    "\n",
    "Above was a likelihood calculation for a particular parameterization of our model. Now we want to write a function that allows different inputs for the 2 parameters that we do not know much about, dermal_af from our model and sd from our likelihood calculation."
   ]
  },
  {
   "cell_type": "code",
   "execution_count": 37,
   "metadata": {
    "collapsed": true
   },
   "outputs": [],
   "source": [
    "likelihood <- function(param){\n",
    "  #dermal_af and sd are passed into this function via param\n",
    "  dermal_af = param[1]\n",
    "  sd = param[2]\n",
    "  \n",
    "  # this is the same model as above\n",
    "  predicted_tissue_concs = (app_rate * conv_rate * sa_amphib_hutchinson * dermal_af)/body_weight\n",
    "  # the probability of obtaining the test data above under this model\n",
    "  # we simply calculate the difference between predictions the predicted y and \n",
    "  # the observed y, and then we have to look up the probability densities (using dnorm) \n",
    "  # for such deviations to occur, log set to True\n",
    "  singlelikelihoods = dnorm(measured_tissue_concs, mean = predicted_tissue_concs, sd = sd, log = T)\n",
    "  # sum the likelihoods across all the obeserved differences since we are in log-space\n",
    "  # we sum the logs as convention to avoid numerical issues, etc.\n",
    "  sumll = sum(singlelikelihoods)\n",
    "  return(sumll)   \n",
    "}"
   ]
  },
  {
   "cell_type": "markdown",
   "metadata": {},
   "source": [
    "## Defining the prior distributions\n",
    "***\n",
    "\n",
    "We need to define what we think we know about the possibel values of dermal_af, as well as the random error sd\n",
    "\n",
    "We will use wide uniform priors:\n",
    "* dermal_af: uniform from 0 to 10\n",
    "* sd: uniform from 0 to 10\n",
    "\n",
    "Let's define a function that will return the prior probability for a pair of dermal_af and sd values"
   ]
  },
  {
   "cell_type": "code",
   "execution_count": 38,
   "metadata": {
    "collapsed": true
   },
   "outputs": [],
   "source": [
    "prior <- function(param){\n",
    "  a = param[1]\n",
    "  sd = param[2]\n",
    "  aprior = dunif(a, min=0, max=4, log = T)\n",
    "  sdprior = dunif(sd, min=0, max=10, log = T)\n",
    "  return(aprior+sdprior)\n",
    "}"
   ]
  },
  {
   "cell_type": "markdown",
   "metadata": {},
   "source": [
    "## Defining the posterior function\n",
    "***\n",
    "The posterior is, by definition, the likelihood times the prior. Since we are working with log-likelihoods, we will add these terms."
   ]
  },
  {
   "cell_type": "code",
   "execution_count": 39,
   "metadata": {
    "collapsed": true
   },
   "outputs": [],
   "source": [
    "posterior <- function(param){\n",
    "  return (likelihood(param) + prior(param))\n",
    "}"
   ]
  },
  {
   "cell_type": "markdown",
   "metadata": {},
   "source": [
    "## The Metropolis-Hastings MCMC proposal function\n",
    "***\n",
    "\n",
    "Markov chain Monte Carlo (MCMC) is different from traditional Monte Carlo in how the proposed inputs are created. In traditional MC we would just create, for example, 10000 inputs for dermal_af in propogate them through the model to create 10000 predictions. In MCMC, the new set of inputs are conditional on the last set of accepted inputs. There are different ways to do this, but in Metropolis-Hastings we generate correlated variables from one draw to the next using the rnorm function.\n",
    "\n",
    "So we need a function that takes a current parameter set and gives a new proposal set.\n",
    "\n",
    "The s.d. in this function is often called the 'step length', and can be tuned to adjust the acceptance rate."
   ]
  },
  {
   "cell_type": "code",
   "execution_count": 40,
   "metadata": {
    "collapsed": true
   },
   "outputs": [],
   "source": [
    "proposalfunction <- function(param){\n",
    "  # draw 2 values from normal distributions for both dermal_af and sd \n",
    "  # the mean of the distribution is the last chain input and sds are specified in the sd input\n",
    "  return(rnorm(2,mean = param, sd= c(0.1,0.3)))\n",
    "}"
   ]
  },
  {
   "cell_type": "markdown",
   "metadata": {},
   "source": [
    "\n",
    "## Metropolis-Hastings Sampling\n",
    "\n",
    "Now we want a function that will run the entire simulation. We will pass some initial values for dermal_af and sd into the function, then it will use the above functions to go step by step through the chain. Importantly, after each simulation, we will compare the likelihood of the new simulation to the likelihood of the old simulation. If our new simulation is better then we keep it, if it is worse we will keep it with a probability equal to the relative likelihood versus the previous simulation."
   ]
  },
  {
   "cell_type": "code",
   "execution_count": 41,
   "metadata": {
    "collapsed": true
   },
   "outputs": [],
   "source": [
    "#metropolis\n",
    "run_metropolis_MCMC <- function(startvalue, iterations){\n",
    "  chain = array(dim = c(iterations+1,3))\n",
    "  chain[1,1:2] = startvalue\n",
    "  for (i in 1:iterations){\n",
    "    # create candidate inputs\n",
    "    proposal = proposalfunction(chain[i,1:2])\n",
    "    \n",
    "    # compare the new simulation to the previous one\n",
    "    probab = exp(posterior(proposal) - posterior(chain[i,1:2]))\n",
    "    \n",
    "    # decide to accept or reject the proposal\n",
    "    if (runif(1) < probab){\n",
    "      chain[i+1,1:2] = proposal #accept the new proposal\n",
    "    }else{\n",
    "      chain[i+1,1:2] = chain[i,1:2] #reject the new proposal and keep the previous one\n",
    "    }\n",
    "    chain[i+1,3] <- probab # save the acceptance probability in the chain\n",
    "  }\n",
    "  return(chain)\n",
    "}"
   ]
  },
  {
   "cell_type": "markdown",
   "metadata": {},
   "source": [
    "## Running the MCMC sampler\n",
    "***\n",
    "Now we are ready to run the simulations. We need to provide some starting values for the inputs and tell the simulation function how many iterations we are interested in.\n"
   ]
  },
  {
   "cell_type": "code",
   "execution_count": 42,
   "metadata": {},
   "outputs": [],
   "source": [
    "startvalue = c(1,2) # give some initial values for dermal_af and sd\n",
    "iterations = 50000\n",
    "chain = run_metropolis_MCMC(startvalue, iterations)"
   ]
  },
  {
   "cell_type": "markdown",
   "metadata": {},
   "source": [
    "We saved the results in the chain function. For our purposes today we are interested in the accepted inputs of dermal_af and sd.\n"
   ]
  },
  {
   "cell_type": "code",
   "execution_count": 43,
   "metadata": {},
   "outputs": [
    {
     "data": {
      "text/html": [
       "<ol class=list-inline>\n",
       "\t<li>50001</li>\n",
       "\t<li>3</li>\n",
       "</ol>\n"
      ],
      "text/latex": [
       "\\begin{enumerate*}\n",
       "\\item 50001\n",
       "\\item 3\n",
       "\\end{enumerate*}\n"
      ],
      "text/markdown": [
       "1. 50001\n",
       "2. 3\n",
       "\n",
       "\n"
      ],
      "text/plain": [
       "[1] 50001     3"
      ]
     },
     "metadata": {},
     "output_type": "display_data"
    },
    {
     "data": {
      "text/plain": [
       "       V1                V2              V3         \n",
       " Min.   :0.03312   Min.   :2.000   Min.   :0.00000  \n",
       " 1st Qu.:0.13586   1st Qu.:6.269   1st Qu.:0.00000  \n",
       " Median :0.14407   Median :6.374   Median :0.00000  \n",
       " Mean   :0.14390   Mean   :6.373   Mean   :    Inf  \n",
       " 3rd Qu.:0.15106   3rd Qu.:6.480   3rd Qu.:0.00269  \n",
       " Max.   :1.10320   Max.   :7.002   Max.   :    Inf  \n",
       "                                   NA's   :1        "
      ]
     },
     "metadata": {},
     "output_type": "display_data"
    },
    {
     "data": {
      "text/html": [
       "0.0876424968334037"
      ],
      "text/latex": [
       "0.0876424968334037"
      ],
      "text/markdown": [
       "0.0876424968334037"
      ],
      "text/plain": [
       "[1] 0.0876425"
      ]
     },
     "metadata": {},
     "output_type": "display_data"
    }
   ],
   "source": [
    "dim(chain)\n",
    "summary(chain)\n",
    "burnIn = 5000\n",
    "acceptance = 1-mean(duplicated(chain[-(1:burnIn),1:2]))\n",
    "acceptance\n",
    "chain_burnfree <- chain[-(1:burnIn),]\n",
    "chain_burnfree[which(chain_burnfree[,3]>1),3] <- 1\n"
   ]
  },
  {
   "cell_type": "markdown",
   "metadata": {},
   "source": [
    "## Visualize the chain output\n",
    "\n",
    "Generally, Monte Carlo sampling generates independent samples from the input variables when simulating. However, Metropolis-Hastings is significantly different in that it generates correlated variables from one draw to the next. This is a big switch from more traditional Monte Carlo approaches based on importance sampling."
   ]
  },
  {
   "cell_type": "code",
   "execution_count": 44,
   "metadata": {},
   "outputs": [
    {
     "data": {
      "image/png": "[encoded data removed]",
      "text/plain": [
       "Plot with title \"probs trace\""
      ]
     },
     "metadata": {},
     "output_type": "display_data"
    }
   ],
   "source": [
    "par(mfrow = c(2,3))\n",
    "hist(chain_burnfree[,1],nclass=30, , main=\"Posterior of dermal_af\", xlab=\"\")\n",
    "abline(v = mean(chain_burnfree[,1]), col=\"red\")\n",
    "hist(chain_burnfree[,2],nclass=30, main=\"Posterior of sd\", xlab=\"\")\n",
    "abline(v = mean(chain_burnfree[,2]), col=\"red\" )\n",
    "hist(chain_burnfree[,3],nclass=30, main=\"probs\", xlab=\"\")\n",
    "abline(v = mean(chain_burnfree[,3]), col=\"red\" )\n",
    "plot(chain_burnfree[,1], type = \"l\", xlab=\"Step #\" , ylab = \"Parameter\", main = \"Chain values of dermal_af\", )\n",
    "abline(h = mean(chain_burnfree[,1]), col=\"red\" )\n",
    "plot(chain_burnfree[,2], type = \"l\", xlab=\"Step #\" , ylab = \"Parameter\", main = \"Chain values of sd\", )\n",
    "abline(h = mean(chain_burnfree[,2]), col=\"red\" )\n",
    "plot(chain_burnfree[,3], type = \"l\", xlab=\"Step #\" , ylab = \"Parameter\", main = \"probs trace\", )\n",
    "abline(h = mean(chain_burnfree[,3]), col=\"red\" )"
   ]
  }
 ],
 "metadata": {
  "kernelspec": {
   "display_name": "R",
   "language": "R",
   "name": "ir"
  },
  "language_info": {
   "codemirror_mode": "r",
   "file_extension": ".r",
   "mimetype": "text/x-r-source",
   "name": "R",
   "pygments_lexer": "r",
   "version": "3.4.3"
  }
 },
 "nbformat": 4,
 "nbformat_minor": 2
}
